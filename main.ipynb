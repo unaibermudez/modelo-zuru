{
 "cells": [
  {
   "cell_type": "markdown",
   "id": "a9c4e464",
   "metadata": {},
   "source": [
    "## Modelo predictivo \n",
    "\n",
    "by @unaibermudez\n"
   ]
  },
  {
   "cell_type": "code",
   "execution_count": null,
   "id": "677337cb",
   "metadata": {},
   "outputs": [
    {
     "name": "stdout",
     "output_type": "stream",
     "text": [
      "\n",
      "--- Información General ---\n",
      "Número de filas: 358008\n",
      "Número de columnas: 8\n",
      "\n",
      "Tipos de datos:\n",
      "target         int64\n",
      "ref_value    float64\n",
      "DPSA_1       float64\n",
      "DPSA_2       float64\n",
      "DPSA_3       float64\n",
      "DLOGP_1      float64\n",
      "DLOGP_2      float64\n",
      "DLOGP_3      float64\n",
      "dtype: object\n",
      "\n",
      "--- Primeras Filas del Dataset ---\n",
      "   target  ref_value  DPSA_1  DPSA_2  DPSA_3  DLOGP_1  DLOGP_2  DLOGP_3\n",
      "0       0     -0.572  -0.068  -3.549  -2.013   -0.740    0.091   -2.080\n",
      "1       0     -0.572  -2.665  -2.032  -0.630   -1.121    0.567   -0.200\n",
      "2       0     -0.572  -1.930  -2.774  -1.669   -1.547    0.071   -0.732\n",
      "3       0     -0.572  -1.137  -1.317  -1.669   -1.604    0.459   -0.732\n",
      "4       0     -0.572  -3.262  -2.032  -1.744   -2.490    0.567   -0.260\n",
      "\n",
      "--- Distribución de la Clase (target) ---\n",
      "target\n",
      "0    349173\n",
      "1      8835\n",
      "Name: count, dtype: int64\n"
     ]
    },
    {
     "data": {
      "image/png": "[encoded data removed]",
      "text/plain": [
       "<Figure size 640x480 with 1 Axes>"
      ]
     },
     "metadata": {},
     "output_type": "display_data"
    },
    {
     "name": "stdout",
     "output_type": "stream",
     "text": [
      "\n",
      "--- Estadísticas Descriptivas ---\n",
      "              target      ref_value         DPSA_1         DPSA_2  \\\n",
      "count  358008.000000  358008.000000  358008.000000  358008.000000   \n",
      "mean        0.024678      -0.000126      -0.000022       0.000025   \n",
      "std         0.155143       1.000074       1.000020       0.999909   \n",
      "min         0.000000      -0.572000      -3.826000      -3.696000   \n",
      "25%         0.000000      -0.572000      -0.687000      -0.756000   \n",
      "50%         0.000000      -0.572000      -0.172000      -0.372000   \n",
      "75%         0.000000       0.282000       0.505000       1.052000   \n",
      "max         1.000000      31.938000       9.635000       5.460000   \n",
      "\n",
      "              DPSA_3        DLOGP_1        DLOGP_2        DLOGP_3  \n",
      "count  358008.000000  358008.000000  358008.000000  358008.000000  \n",
      "mean        0.000004      -0.000009       0.000048      -0.000004  \n",
      "std         1.000026       1.000008       1.000022       0.999992  \n",
      "min        -8.313000      -7.531000      -2.347000      -6.222000  \n",
      "25%        -0.633000      -0.518000      -0.923000      -0.698000  \n",
      "50%        -0.224000       0.044000       0.271000       0.122000  \n",
      "75%         0.472000       0.582000       0.768000       0.678000  \n",
      "max         5.928000       9.395000       4.915000       5.592000  \n"
     ]
    }
   ],
   "source": [
    "import pandas as pd\n",
    "import matplotlib.pyplot as plt\n",
    "import seaborn as sns\n",
    "import warnings\n",
    "\n",
    "# Ocultar futuros warnings de seaborn\n",
    "warnings.filterwarnings(\"ignore\", category=FutureWarning)\n",
    "\n",
    "# Cargar el dataset\n",
    "file_path = 'data.csv'\n",
    "df = pd.read_csv(file_path, sep=';', decimal='.')\n",
    "\n",
    "# Eliminar columna 'n' (índice)\n",
    "df = df.drop(columns=['n'])\n",
    "\n",
    "# Información general\n",
    "print(\"\\n--- Información General ---\")\n",
    "print(f\"Número de filas: {df.shape[0]}\")\n",
    "print(f\"Número de columnas: {df.shape[1]}\")\n",
    "print(\"\\nTipos de datos:\")\n",
    "print(df.dtypes)\n",
    "\n",
    "# Ver primeros registros\n",
    "print(\"\\n--- Primeras Filas del Dataset ---\")\n",
    "print(df.head())\n",
    "\n",
    "# Distribución de la clase objetivo (target)\n",
    "print(\"\\n--- Distribución de la Clase (target) ---\")\n",
    "print(df['target'].value_counts())\n",
    "sns.countplot(x='target', data=df)\n",
    "plt.title('Distribución de la Clase Objetivo')\n",
    "plt.xlabel('Clase')\n",
    "plt.ylabel('Frecuencia')\n",
    "plt.show()\n",
    "\n",
    "# Estadísticas descriptivas\n",
    "print(\"\\n--- Estadísticas Descriptivas ---\")\n",
    "print(df.describe())\n"
   ]
  },
  {
   "cell_type": "markdown",
   "id": "0aa27128",
   "metadata": {},
   "source": [
    "### Baseline model con RandomForest"
   ]
  },
  {
   "cell_type": "code",
   "execution_count": 11,
   "id": "15bd6619",
   "metadata": {},
   "outputs": [
    {
     "name": "stdout",
     "output_type": "stream",
     "text": [
      "\n",
      "--- Entrenando modelo baseline con Random Forest ---\n",
      "\n",
      "--- Matriz de Confusión ---\n",
      "[[69654   181]\n",
      " [ 1558   209]]\n",
      "\n",
      "--- Reporte de Clasificación ---\n",
      "              precision    recall  f1-score   support\n",
      "\n",
      "           0       0.98      1.00      0.99     69835\n",
      "           1       0.54      0.12      0.19      1767\n",
      "\n",
      "    accuracy                           0.98     71602\n",
      "   macro avg       0.76      0.56      0.59     71602\n",
      "weighted avg       0.97      0.98      0.97     71602\n",
      "\n",
      "\n",
      "--- ROC AUC ---\n",
      "AUC: 0.9559\n"
     ]
    }
   ],
   "source": [
    "from sklearn.model_selection import train_test_split\n",
    "from sklearn.ensemble import RandomForestClassifier\n",
    "from sklearn.metrics import classification_report, confusion_matrix, roc_auc_score\n",
    "\n",
    "\n",
    "# === BASELINE MODEL ===\n",
    "print(\"\\n--- Entrenando modelo baseline con Random Forest ---\")\n",
    "\n",
    "# Separar variables predictoras y target\n",
    "X = df.drop(columns=['target'])\n",
    "y = df['target']\n",
    "\n",
    "# División en entrenamiento y prueba\n",
    "X_train, X_test, y_train, y_test = train_test_split(X, y, stratify=y, test_size=0.2, random_state=42)\n",
    "\n",
    "# Entrenar modelo Random Forest\n",
    "model = RandomForestClassifier(random_state=42)\n",
    "model.fit(X_train, y_train)\n",
    "\n",
    "# Predicciones\n",
    "y_pred = model.predict(X_test)\n",
    "y_proba = model.predict_proba(X_test)[:, 1]\n",
    "\n",
    "# Evaluación\n",
    "print(\"\\n--- Matriz de Confusión ---\")\n",
    "print(confusion_matrix(y_test, y_pred))\n",
    "\n",
    "print(\"\\n--- Reporte de Clasificación ---\")\n",
    "print(classification_report(y_test, y_pred))\n",
    "\n",
    "print(\"\\n--- ROC AUC ---\")\n",
    "print(f\"AUC: {roc_auc_score(y_test, y_proba):.4f}\")\n",
    "\n"
   ]
  },
  {
   "cell_type": "markdown",
   "id": "4ddd7cb7",
   "metadata": {},
   "source": [
    "### XGBoostClassifier\n"
   ]
  },
  {
   "cell_type": "code",
   "execution_count": 13,
   "id": "93cb535d",
   "metadata": {},
   "outputs": [
    {
     "name": "stderr",
     "output_type": "stream",
     "text": [
      "C:\\Users\\unai\\AppData\\Local\\Packages\\PythonSoftwareFoundation.Python.3.10_qbz5n2kfra8p0\\LocalCache\\local-packages\\Python310\\site-packages\\xgboost\\training.py:183: UserWarning: [16:02:46] WARNING: C:\\actions-runner\\_work\\xgboost\\xgboost\\src\\learner.cc:738: \n",
      "Parameters: { \"use_label_encoder\" } are not used.\n",
      "\n",
      "  bst.update(dtrain, iteration=i, fobj=obj)\n"
     ]
    },
    {
     "name": "stdout",
     "output_type": "stream",
     "text": [
      "\n",
      "--- Matriz de Confusión (XGBoost) ---\n",
      "[[63945  5890]\n",
      " [  180  1587]]\n",
      "\n",
      "--- Reporte de Clasificación (XGBoost) ---\n",
      "              precision    recall  f1-score   support\n",
      "\n",
      "           0       1.00      0.92      0.95     69835\n",
      "           1       0.21      0.90      0.34      1767\n",
      "\n",
      "    accuracy                           0.92     71602\n",
      "   macro avg       0.60      0.91      0.65     71602\n",
      "weighted avg       0.98      0.92      0.94     71602\n",
      "\n",
      "\n",
      "--- ROC AUC (XGBoost) ---\n",
      "AUC: 0.9665\n"
     ]
    }
   ],
   "source": [
    "from xgboost import XGBClassifier\n",
    "from sklearn.metrics import classification_report, confusion_matrix, roc_auc_score\n",
    "\n",
    "# Calcular ratio para balanceo\n",
    "scale_pos_weight = (y_train == 0).sum() / (y_train == 1).sum()\n",
    "\n",
    "# Entrenar XGBoost con ajuste para clases desbalanceadas\n",
    "xgb_model = XGBClassifier(use_label_encoder=False, eval_metric='logloss', scale_pos_weight=scale_pos_weight, random_state=42)\n",
    "xgb_model.fit(X_train, y_train)\n",
    "\n",
    "# Predicciones\n",
    "y_pred_xgb = xgb_model.predict(X_test)\n",
    "y_proba_xgb = xgb_model.predict_proba(X_test)[:, 1]\n",
    "\n",
    "# Evaluación\n",
    "print(\"\\n--- Matriz de Confusión (XGBoost) ---\")\n",
    "print(confusion_matrix(y_test, y_pred_xgb))\n",
    "\n",
    "print(\"\\n--- Reporte de Clasificación (XGBoost) ---\")\n",
    "print(classification_report(y_test, y_pred_xgb))\n",
    "\n",
    "print(\"\\n--- ROC AUC (XGBoost) ---\")\n",
    "print(f\"AUC: {roc_auc_score(y_test, y_proba_xgb):.4f}\")\n"
   ]
  },
  {
   "cell_type": "markdown",
   "id": "5682a1b7",
   "metadata": {},
   "source": [
    "### 🔧 Ajuste del Umbral de Decisión (Threshold Tuning)\n",
    "El modelo XGBoost predice probabilidades para cada clase. Por defecto, se clasifica como coinfección (1) si la probabilidad es mayor o igual a 0.5. Sin embargo, podemos ajustar este umbral para mejorar el equilibrio entre precisión y recall, especialmente útil en problemas desbalanceados. A continuación se visualiza la curva precisión vs. recall y se evalúan los resultados usando un umbral personalizado."
   ]
  },
  {
   "cell_type": "code",
   "execution_count": 14,
   "id": "4b81a7ce",
   "metadata": {},
   "outputs": [
    {
     "data": {
      "image/png": "[encoded data removed]",
      "text/plain": [
       "<Figure size 800x500 with 1 Axes>"
      ]
     },
     "metadata": {},
     "output_type": "display_data"
    },
    {
     "name": "stdout",
     "output_type": "stream",
     "text": [
      "\n",
      "--- Evaluación con threshold = 0.7 ---\n",
      "              precision    recall  f1-score   support\n",
      "\n",
      "           0       1.00      0.94      0.97     69835\n",
      "           1       0.26      0.82      0.39      1767\n",
      "\n",
      "    accuracy                           0.94     71602\n",
      "   macro avg       0.63      0.88      0.68     71602\n",
      "weighted avg       0.98      0.94      0.95     71602\n",
      "\n"
     ]
    }
   ],
   "source": [
    "import numpy as np\n",
    "from sklearn.metrics import precision_recall_curve, classification_report\n",
    "\n",
    "# Curva precision-recall\n",
    "precisions, recalls, thresholds = precision_recall_curve(y_test, y_proba_xgb)\n",
    "\n",
    "# Gráfico precision vs recall\n",
    "plt.figure(figsize=(8, 5))\n",
    "plt.plot(recalls, precisions, label='Precision-Recall Curve')\n",
    "plt.xlabel('Recall')\n",
    "plt.ylabel('Precision')\n",
    "plt.title('Precision vs Recall - XGBoost')\n",
    "plt.grid()\n",
    "plt.legend()\n",
    "plt.show()\n",
    "\n",
    "# Evaluación con umbral ajustado\n",
    "custom_thresh = 0.7  # puedes probar otros como 0.6, 0.75, etc.\n",
    "y_pred_thresh = (y_proba_xgb >= custom_thresh).astype(int)\n",
    "\n",
    "print(f\"\\n--- Evaluación con threshold = {custom_thresh} ---\")\n",
    "print(classification_report(y_test, y_pred_thresh))\n"
   ]
  },
  {
   "cell_type": "markdown",
   "id": "85c93ee4",
   "metadata": {},
   "source": [
    "### 🔍 Búsqueda del Mejor Umbral Basado en F1-Score\n",
    "Para optimizar la clasificación de coinfecciones, probamos distintos umbrales de decisión y calculamos el F1-score para cada uno. El F1-score es útil cuando hay desbalance entre clases, ya que combina precisión y recall en una única métrica. A continuación se identifica el umbral óptimo y se muestra el rendimiento asociado."
   ]
  },
  {
   "cell_type": "code",
   "execution_count": 15,
   "id": "eafa27b1",
   "metadata": {},
   "outputs": [
    {
     "name": "stdout",
     "output_type": "stream",
     "text": [
      "Threshold\tF1-score\tPrecision\tRecall\n",
      "0.10\t\t0.2435\t\t0.1389\t\t0.9842\n",
      "0.15\t\t0.2605\t\t0.1502\t\t0.9791\n",
      "0.20\t\t0.2758\t\t0.1607\t\t0.9717\n",
      "0.25\t\t0.2890\t\t0.1700\t\t0.9643\n",
      "0.30\t\t0.3007\t\t0.1786\t\t0.9519\n",
      "0.35\t\t0.3107\t\t0.1862\t\t0.9366\n",
      "0.40\t\t0.3217\t\t0.1947\t\t0.9259\n",
      "0.45\t\t0.3315\t\t0.2026\t\t0.9111\n",
      "0.50\t\t0.3434\t\t0.2123\t\t0.8981\n",
      "0.55\t\t0.3554\t\t0.2223\t\t0.8862\n",
      "0.60\t\t0.3682\t\t0.2336\t\t0.8681\n",
      "0.65\t\t0.3781\t\t0.2435\t\t0.8449\n",
      "0.70\t\t0.3927\t\t0.2582\t\t0.8200\n",
      "0.75\t\t0.4052\t\t0.2733\t\t0.7827\n",
      "0.80\t\t0.4186\t\t0.2927\t\t0.7346\n",
      "0.85\t\t0.4335\t\t0.3220\t\t0.6633\n",
      "0.90\t\t0.4390\t\t0.3640\t\t0.5529\n",
      "\n",
      "--- Mejor threshold según F1-score: 0.90 ---\n",
      "              precision    recall  f1-score   support\n",
      "\n",
      "           0       0.99      0.98      0.98     69835\n",
      "           1       0.36      0.55      0.44      1767\n",
      "\n",
      "    accuracy                           0.97     71602\n",
      "   macro avg       0.68      0.76      0.71     71602\n",
      "weighted avg       0.97      0.97      0.97     71602\n",
      "\n"
     ]
    }
   ],
   "source": [
    "from sklearn.metrics import f1_score\n",
    "from sklearn.metrics import precision_score\n",
    "from sklearn.metrics import recall_score\n",
    "\n",
    "# Búsqueda de threshold óptimo\n",
    "best_thresh = 0.5\n",
    "best_f1 = 0\n",
    "\n",
    "print(\"Threshold\\tF1-score\\tPrecision\\tRecall\")\n",
    "for thresh in np.arange(0.1, 0.95, 0.05):\n",
    "    y_pred_thresh = (y_proba_xgb >= thresh).astype(int)\n",
    "    f1 = f1_score(y_test, y_pred_thresh)\n",
    "    prec = precision_score(y_test, y_pred_thresh)\n",
    "    rec = recall_score(y_test, y_pred_thresh)\n",
    "    print(f\"{thresh:.2f}\\t\\t{f1:.4f}\\t\\t{prec:.4f}\\t\\t{rec:.4f}\")\n",
    "    \n",
    "    if f1 > best_f1:\n",
    "        best_f1 = f1\n",
    "        best_thresh = thresh\n",
    "\n",
    "# Evaluación final con el mejor threshold\n",
    "print(f\"\\n--- Mejor threshold según F1-score: {best_thresh:.2f} ---\")\n",
    "y_pred_best = (y_proba_xgb >= best_thresh).astype(int)\n",
    "print(classification_report(y_test, y_pred_best))\n"
   ]
  },
  {
   "cell_type": "markdown",
   "id": "7f2466e4",
   "metadata": {},
   "source": [
    "### 🧠 Modelo Mejorado: XGBoost + Threshold Óptimo\n",
    "Tras probar múltiples umbrales, se determinó que el threshold de 0.90 ofrece el mejor equilibrio F1-score para predecir coinfección. A continuación, se entrena un nuevo modelo XGBoost utilizando los mismos parámetros y se aplica directamente el threshold ajustado para obtener predicciones más efectivas."
   ]
  },
  {
   "cell_type": "code",
   "execution_count": 16,
   "id": "9006bcbd",
   "metadata": {},
   "outputs": [
    {
     "name": "stderr",
     "output_type": "stream",
     "text": [
      "C:\\Users\\unai\\AppData\\Local\\Packages\\PythonSoftwareFoundation.Python.3.10_qbz5n2kfra8p0\\LocalCache\\local-packages\\Python310\\site-packages\\xgboost\\training.py:183: UserWarning: [16:09:16] WARNING: C:\\actions-runner\\_work\\xgboost\\xgboost\\src\\learner.cc:738: \n",
      "Parameters: { \"use_label_encoder\" } are not used.\n",
      "\n",
      "  bst.update(dtrain, iteration=i, fobj=obj)\n"
     ]
    },
    {
     "name": "stdout",
     "output_type": "stream",
     "text": [
      "\n",
      "--- Matriz de Confusión (Modelo Mejorado) ---\n",
      "[[68128  1707]\n",
      " [  790   977]]\n",
      "\n",
      "--- Reporte de Clasificación (Modelo Mejorado) ---\n",
      "              precision    recall  f1-score   support\n",
      "\n",
      "           0       0.99      0.98      0.98     69835\n",
      "           1       0.36      0.55      0.44      1767\n",
      "\n",
      "    accuracy                           0.97     71602\n",
      "   macro avg       0.68      0.76      0.71     71602\n",
      "weighted avg       0.97      0.97      0.97     71602\n",
      "\n",
      "\n",
      "--- ROC AUC (Modelo Mejorado) ---\n",
      "AUC: 0.9665\n"
     ]
    }
   ],
   "source": [
    "from xgboost import XGBClassifier\n",
    "from sklearn.metrics import classification_report, confusion_matrix, roc_auc_score\n",
    "\n",
    "# Reentrenar el modelo con mismos parámetros\n",
    "xgb_final = XGBClassifier(use_label_encoder=False, eval_metric='logloss',\n",
    "                          scale_pos_weight=scale_pos_weight, random_state=42)\n",
    "xgb_final.fit(X_train, y_train)\n",
    "\n",
    "# Predecir con threshold óptimo (0.90)\n",
    "y_proba_final = xgb_final.predict_proba(X_test)[:, 1]\n",
    "y_pred_final = (y_proba_final >= 0.90).astype(int)\n",
    "\n",
    "# Evaluación\n",
    "print(\"\\n--- Matriz de Confusión (Modelo Mejorado) ---\")\n",
    "print(confusion_matrix(y_test, y_pred_final))\n",
    "\n",
    "print(\"\\n--- Reporte de Clasificación (Modelo Mejorado) ---\")\n",
    "print(classification_report(y_test, y_pred_final))\n",
    "\n",
    "print(\"\\n--- ROC AUC (Modelo Mejorado) ---\")\n",
    "print(f\"AUC: {roc_auc_score(y_test, y_proba_final):.4f}\")\n"
   ]
  }
 ],
 "metadata": {
  "kernelspec": {
   "display_name": "Python 3",
   "language": "python",
   "name": "python3"
  },
  "language_info": {
   "codemirror_mode": {
    "name": "ipython",
    "version": 3
   },
   "file_extension": ".py",
   "mimetype": "text/x-python",
   "name": "python",
   "nbconvert_exporter": "python",
   "pygments_lexer": "ipython3",
   "version": "3.10.11"
  }
 },
 "nbformat": 4,
 "nbformat_minor": 5
}
